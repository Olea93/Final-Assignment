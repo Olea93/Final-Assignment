{
  "metadata": {
    "language_info": {
      "codemirror_mode": {
        "name": "python",
        "version": 3
      },
      "file_extension": ".py",
      "mimetype": "text/x-python",
      "name": "python",
      "nbconvert_exporter": "python",
      "pygments_lexer": "ipython3",
      "version": "3.8"
    },
    "kernelspec": {
      "name": "python",
      "display_name": "Pyolite",
      "language": "python"
    }
  },
  "nbformat_minor": 4,
  "nbformat": 4,
  "cells": [
    {
      "cell_type": "markdown",
      "source": "# My Jupyter Notebook on IBM Watson Studio",
      "metadata": {}
    },
    {
      "cell_type": "markdown",
      "source": "**Olea Roy**\n\nData Scientist",
      "metadata": {}
    },
    {
      "cell_type": "markdown",
      "source": "*I am interested in data science because insights from data can solve several long-standing problems in the world, thereby making life better for everyone.*",
      "metadata": {}
    },
    {
      "cell_type": "markdown",
      "source": "### The following code will test for the correctness of squares of numbers",
      "metadata": {}
    },
    {
      "cell_type": "code",
      "source": "def square(x):\n    return x*x\n\n4==2*2\n9==3*3",
      "metadata": {
        "trusted": true
      },
      "execution_count": 9,
      "outputs": [
        {
          "execution_count": 9,
          "output_type": "execute_result",
          "data": {
            "text/plain": "True"
          },
          "metadata": {}
        }
      ]
    },
    {
      "cell_type": "markdown",
      "source": "* The above formula will return 'False' if the left hand side (LHS) and right hand sides (RHS) of the equations do not equate\n* For example, if the LHS has '5' and the RHS multiplies 1 with itself, the output will be 'False'\n\n***\nTo illustrate through a table:\n***\n\nLHS | RHS | Output\n----|-----|-------|\n5|1* 1|False\n16|4* 4| True",
      "metadata": {}
    },
    {
      "cell_type": "code",
      "source": "",
      "metadata": {},
      "execution_count": null,
      "outputs": []
    }
  ]
}